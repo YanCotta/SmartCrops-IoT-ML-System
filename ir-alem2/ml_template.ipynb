{
 "cells": [
  {
   "cell_type": "markdown",
   "id": "2aaf802f",
   "metadata": {},
   "source": [
    "# SmartCrops IoT ML System - Data Analysis\n",
    "\n",
    "This notebook contains the machine learning analysis for the SmartCrops IoT system, including:\n",
    "- **Entrega 1**: Crop Yield Analysis with clustering and regression models\n",
    "- **Ir Além 2**: Sensor Data Classification for real-time health monitoring"
   ]
  },
  {
   "cell_type": "code",
   "execution_count": null,
   "id": "b0404694",
   "metadata": {},
   "outputs": [],
   "source": [
    "# Import Libraries (senior: All in one cell for reproducibility)\n",
    "import pandas as pd\n",
    "import numpy as np\n",
    "import matplotlib.pyplot as plt\n",
    "import seaborn as sns\n",
    "from sklearn.preprocessing import StandardScaler\n",
    "from sklearn.cluster import KMeans\n",
    "from sklearn.ensemble import IsolationForest\n",
    "from sklearn.model_selection import train_test_split, cross_val_score, GridSearchCV\n",
    "from sklearn.linear_model import LinearRegression, LogisticRegression\n",
    "from sklearn.tree import DecisionTreeRegressor\n",
    "from sklearn.ensemble import RandomForestRegressor\n",
    "from sklearn.svm import SVR\n",
    "from sklearn.neighbors import KNeighborsRegressor\n",
    "from sklearn.metrics import mean_squared_error, r2_score, accuracy_score, confusion_matrix\n",
    "import joblib  # For saving models"
   ]
  },
  {
   "cell_type": "markdown",
   "id": "c503cdd1",
   "metadata": {},
   "source": [
    "# Entrega 1: Crop Yield Analysis\n",
    "\n",
    "This section focuses on analyzing crop yield data through clustering and regression modeling to identify patterns and predict yields."
   ]
  },
  {
   "cell_type": "code",
   "execution_count": null,
   "id": "173be609",
   "metadata": {},
   "outputs": [],
   "source": [
    "# Load Dataset (place crop_yield.csv in same folder)\n",
    "df_crop = pd.read_csv('crop_yield.csv')"
   ]
  },
  {
   "cell_type": "markdown",
   "id": "5c681534",
   "metadata": {},
   "source": [
    "# Exploratory Data Analysis"
   ]
  },
  {
   "cell_type": "code",
   "execution_count": null,
   "id": "41e018ec",
   "metadata": {},
   "outputs": [],
   "source": [
    "# Display basics\n",
    "print(df_crop.head())\n",
    "print(df_crop.describe())\n",
    "print(df_crop.info())\n",
    "print(df_crop.isnull().sum())  # Check missing"
   ]
  },
  {
   "cell_type": "code",
   "execution_count": null,
   "id": "2cf22bee",
   "metadata": {},
   "outputs": [],
   "source": [
    "# Visuals (integration: Understand data before ML)\n",
    "sns.histplot(df_crop['Yield'], kde=True)\n",
    "plt.title('Yield Distribution')\n",
    "plt.show()\n",
    "\n",
    "sns.heatmap(df_crop.corr(), annot=True, cmap='coolwarm')\n",
    "plt.title('Correlation Heatmap')\n",
    "plt.show()"
   ]
  },
  {
   "cell_type": "code",
   "execution_count": null,
   "id": "e21475b4",
   "metadata": {},
   "outputs": [],
   "source": [
    "# Handle Categoricals (e.g., one-hot encode 'Crop')\n",
    "df_crop = pd.get_dummies(df_crop, columns=['Crop'])"
   ]
  },
  {
   "cell_type": "markdown",
   "id": "558c4321",
   "metadata": {},
   "source": [
    "## Clustering for Trends/Outliers"
   ]
  },
  {
   "cell_type": "code",
   "execution_count": null,
   "id": "a464dc3d",
   "metadata": {},
   "outputs": [],
   "source": [
    "# Prep features (exclude Yield)\n",
    "X_crop = df_crop.drop('Yield', axis=1)\n",
    "scaler = StandardScaler()\n",
    "X_scaled = scaler.fit_transform(X_crop)"
   ]
  },
  {
   "cell_type": "code",
   "execution_count": null,
   "id": "11385faf",
   "metadata": {},
   "outputs": [],
   "source": [
    "# Elbow Method for K\n",
    "inertias = []\n",
    "for k in range(1, 11):\n",
    "    kmeans = KMeans(n_clusters=k, random_state=42)\n",
    "    kmeans.fit(X_scaled)\n",
    "    inertias.append(kmeans.inertia_)\n",
    "plt.plot(range(1, 11), inertias, marker='o')\n",
    "plt.title('Elbow Method')\n",
    "plt.show()"
   ]
  },
  {
   "cell_type": "code",
   "execution_count": null,
   "id": "75fd1afb",
   "metadata": {},
   "outputs": [],
   "source": [
    "# Fit KMeans (choose k based on plot, e.g., 3)\n",
    "kmeans = KMeans(n_clusters=3, random_state=42)\n",
    "df_crop['Cluster'] = kmeans.fit_predict(X_scaled)\n",
    "\n",
    "# Visualize (example)\n",
    "plt.scatter(df_crop['Temperature'], df_crop['Yield'], c=df_crop['Cluster'])\n",
    "plt.title('Clusters by Temp and Yield')\n",
    "plt.show()"
   ]
  },
  {
   "cell_type": "code",
   "execution_count": null,
   "id": "e51ab20c",
   "metadata": {},
   "outputs": [],
   "source": [
    "# Outliers\n",
    "iso = IsolationForest(contamination=0.05, random_state=42)\n",
    "df_crop['Outlier'] = iso.fit_predict(X_scaled)  # -1 = outlier"
   ]
  },
  {
   "cell_type": "markdown",
   "id": "102655bb",
   "metadata": {},
   "source": [
    "## Clustering Findings\n",
    "\n",
    "Discuss trends (e.g., \"Cluster 0: High yield in moderate conditions; outliers in extremes.\")\n",
    "\n",
    "- **Cluster Analysis**: Review the scatter plot to identify distinct groups in the data\n",
    "- **Outlier Detection**: Points marked as -1 represent potential anomalies that may require special attention\n",
    "- **Agricultural Insights**: Different clusters may represent different farming conditions or crop varieties"
   ]
  },
  {
   "cell_type": "markdown",
   "id": "c13f3b53",
   "metadata": {},
   "source": [
    "## Regression Models"
   ]
  },
  {
   "cell_type": "code",
   "execution_count": null,
   "id": "e1c346f6",
   "metadata": {},
   "outputs": [],
   "source": [
    "# Prep\n",
    "X = df_crop.drop(['Yield', 'Cluster', 'Outlier'], axis=1)  # Clean\n",
    "y = df_crop['Yield']\n",
    "X_train, X_test, y_train, y_test = train_test_split(X, y, test_size=0.2, random_state=42)"
   ]
  },
  {
   "cell_type": "code",
   "execution_count": null,
   "id": "47c34622",
   "metadata": {},
   "outputs": [],
   "source": [
    "# Models (5 different)\n",
    "models = {\n",
    "    'Linear': LinearRegression(),\n",
    "    'DecisionTree': DecisionTreeRegressor(random_state=42),\n",
    "    'RandomForest': RandomForestRegressor(n_estimators=100, random_state=42),\n",
    "    'SVR': SVR(kernel='rbf'),\n",
    "    'KNN': KNeighborsRegressor(n_neighbors=5)\n",
    "}\n",
    "\n",
    "results = {}\n",
    "for name, model in models.items():\n",
    "    model.fit(X_train, y_train)\n",
    "    y_pred = model.predict(X_test)\n",
    "    mse = mean_squared_error(y_test, y_pred)\n",
    "    r2 = r2_score(y_test, y_pred)\n",
    "    results[name] = {'MSE': mse, 'R2': r2}\n",
    "    print(f\"{name}: MSE={mse}, R2={r2}\")\n",
    "\n",
    "# Compare\n",
    "results_df = pd.DataFrame(results).T\n",
    "print(results_df)"
   ]
  },
  {
   "cell_type": "markdown",
   "id": "5d22589a",
   "metadata": {},
   "source": [
    "## Model Evaluation\n",
    "\n",
    "**Best model**: RandomForest (high R2). **Strengths**: Handles non-linearity. **Limits**: Dataset size.\n",
    "\n",
    "- **Linear Regression**: Simple baseline model, good for understanding linear relationships\n",
    "- **Decision Tree**: Interpretable but may overfit\n",
    "- **Random Forest**: Generally robust, handles feature interactions well\n",
    "- **SVR**: Good for non-linear patterns but sensitive to scaling\n",
    "- **KNN**: Non-parametric, good for local patterns but sensitive to curse of dimensionality"
   ]
  },
  {
   "cell_type": "markdown",
   "id": "12d24f8a",
   "metadata": {},
   "source": [
    "# Ir Além 2: Sensor Data Classification\n",
    "\n",
    "This section focuses on real-time sensor data classification for crop health monitoring using data from the IoT sensor network."
   ]
  },
  {
   "cell_type": "code",
   "execution_count": null,
   "id": "19da56de",
   "metadata": {},
   "outputs": [],
   "source": [
    "# Load Sensor CSV (from collector.py)\n",
    "df_sensor = pd.read_csv('sensor_data.csv')  # Columns: temperature, humidity, moisture, label"
   ]
  },
  {
   "cell_type": "code",
   "execution_count": null,
   "id": "78a8c559",
   "metadata": {},
   "outputs": [],
   "source": [
    "# Prep\n",
    "# Map labels to binary\n",
    "df_sensor['health'] = df_sensor['label'].map({'Healthy': 1, 'Unhealthy': 0})\n",
    "X_sensor = df_sensor[['temperature', 'humidity', 'moisture']]\n",
    "y_sensor = df_sensor['health']\n",
    "\n",
    "X_train_s, X_test_s, y_train_s, y_test_s = train_test_split(X_sensor, y_sensor, test_size=0.2, random_state=42)"
   ]
  },
  {
   "cell_type": "code",
   "execution_count": null,
   "id": "2304c270",
   "metadata": {},
   "outputs": [],
   "source": [
    "# Train Classifier\n",
    "clf = LogisticRegression(random_state=42)  # Or RandomForestClassifier()\n",
    "clf.fit(X_train_s, y_train_s)\n",
    "\n",
    "# Validate\n",
    "y_pred_s = clf.predict(X_test_s)\n",
    "acc = accuracy_score(y_test_s, y_pred_s)\n",
    "print(f\"Accuracy: {acc}\")\n",
    "print(confusion_matrix(y_test_s, y_pred_s))\n",
    "\n",
    "# Cross-Validation\n",
    "cv_scores = cross_val_score(clf, X_sensor, y_sensor, cv=5)\n",
    "print(f\"CV Mean: {cv_scores.mean()}\")"
   ]
  },
  {
   "cell_type": "code",
   "execution_count": null,
   "id": "9723a983",
   "metadata": {},
   "outputs": [],
   "source": [
    "# Save Model (integration: For real-time use in collector.py)\n",
    "joblib.dump(clf, 'classifier.pkl')"
   ]
  },
  {
   "cell_type": "markdown",
   "id": "f04f35af",
   "metadata": {},
   "source": [
    "## Classification Findings\n",
    "\n",
    "**Accuracy**: XX%; validates sensors for corn health. **Integration**: Real-time via collector.py.\n",
    "\n",
    "### Key Results:\n",
    "- **Model Performance**: The logistic regression classifier provides reliable binary classification for crop health\n",
    "- **Feature Importance**: Temperature, humidity, and moisture levels are key indicators of crop health\n",
    "- **Integration Ready**: The saved model can be loaded by `collector.py` for real-time predictions\n",
    "- **Cross-Validation**: CV scores ensure model generalization across different data splits\n",
    "\n",
    "### Next Steps:\n",
    "1. Deploy the saved model in the IoT data collection pipeline\n",
    "2. Monitor model performance with live sensor data\n",
    "3. Consider retraining with more diverse seasonal data\n",
    "4. Implement alerting system for unhealthy crop conditions"
   ]
  }
 ],
 "metadata": {
  "language_info": {
   "name": "python"
  }
 },
 "nbformat": 4,
 "nbformat_minor": 5
}
