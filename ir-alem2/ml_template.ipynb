{
 "cells": [
  {
   "cell_type": "markdown",
   "id": "5e75262e",
   "metadata": {},
   "source": [
    "# Ir Além 2 — ML Pipeline\n",
    "This notebook trains a simple classifier using data collected by `collector.py` into `sensor_data.csv`. It also exports the model as `classifier.pkl` for real-time inference."
   ]
  },
  {
   "cell_type": "markdown",
   "id": "aa96aeed",
   "metadata": {},
   "source": [
    "## 1. Setup & Imports\n",
    "Installs dependencies (if needed) and imports libraries."
   ]
  },
  {
   "cell_type": "code",
   "execution_count": 1,
   "id": "804b0980",
   "metadata": {},
   "outputs": [
    {
     "name": "stdout",
     "output_type": "stream",
     "text": [
      "Using dataset: /home/yan/Documents/Git/SmartCrops-IoT-ML-System/sensor_data.csv\n"
     ]
    }
   ],
   "source": [
    "# If running in a fresh environment, uncomment: \n",
    "# %pip install -q pandas scikit-learn joblib matplotlib seaborn\n",
    "import pandas as pd\n",
    "import numpy as np\n",
    "from pathlib import Path\n",
    "import matplotlib.pyplot as plt\n",
    "import seaborn as sns\n",
    "from sklearn.model_selection import train_test_split, cross_val_score\n",
    "from sklearn.preprocessing import StandardScaler\n",
    "from sklearn.pipeline import Pipeline\n",
    "from sklearn.metrics import classification_report, confusion_matrix\n",
    "from sklearn.linear_model import LogisticRegression\n",
    "from sklearn.ensemble import RandomForestClassifier  # optional alternative\n",
    "import joblib\n",
    "\n",
    "# Locate CSV in either notebook folder or repo root\n",
    "candidates = [Path('sensor_data.csv'), Path('..') / 'sensor_data.csv']\n",
    "data_path = next((p for p in candidates if p.exists()), None)\n",
    "assert data_path is not None, 'sensor_data.csv not found. Run collector.py first.'\n",
    "print(f'Using dataset: {data_path.resolve()}')"
   ]
  },
  {
   "cell_type": "markdown",
   "id": "ab3e699c",
   "metadata": {},
   "source": [
    "## 2. Load & Explore\n",
    "Load the collected dataset and quickly inspect distributions."
   ]
  },
  {
   "cell_type": "code",
   "execution_count": 2,
   "id": "26fbb136",
   "metadata": {},
   "outputs": [
    {
     "name": "stdout",
     "output_type": "stream",
     "text": [
      "(66, 4)\n"
     ]
    },
    {
     "data": {
      "application/vnd.microsoft.datawrangler.viewer.v0+json": {
       "columns": [
        {
         "name": "index",
         "rawType": "int64",
         "type": "integer"
        },
        {
         "name": "temperature",
         "rawType": "float64",
         "type": "float"
        },
        {
         "name": "humidity",
         "rawType": "float64",
         "type": "float"
        },
        {
         "name": "moisture",
         "rawType": "float64",
         "type": "float"
        },
        {
         "name": "label",
         "rawType": "object",
         "type": "string"
        }
       ],
       "ref": "8afbb08c-5a6b-47d5-a21e-e15e85eff738",
       "rows": [
        [
         "0",
         "25.0",
         "60.0",
         "100.0",
         "Healthy"
        ],
        [
         "1",
         "25.0",
         "60.0",
         "0.0",
         "Unhealthy"
        ],
        [
         "2",
         "25.0",
         "60.0",
         "100.0",
         "Healthy"
        ],
        [
         "3",
         "25.0",
         "60.0",
         "0.0",
         "Unhealthy"
        ],
        [
         "4",
         "25.0",
         "60.0",
         "0.0",
         "Unhealthy"
        ]
       ],
       "shape": {
        "columns": 4,
        "rows": 5
       }
      },
      "text/html": [
       "<div>\n",
       "<style scoped>\n",
       "    .dataframe tbody tr th:only-of-type {\n",
       "        vertical-align: middle;\n",
       "    }\n",
       "\n",
       "    .dataframe tbody tr th {\n",
       "        vertical-align: top;\n",
       "    }\n",
       "\n",
       "    .dataframe thead th {\n",
       "        text-align: right;\n",
       "    }\n",
       "</style>\n",
       "<table border=\"1\" class=\"dataframe\">\n",
       "  <thead>\n",
       "    <tr style=\"text-align: right;\">\n",
       "      <th></th>\n",
       "      <th>temperature</th>\n",
       "      <th>humidity</th>\n",
       "      <th>moisture</th>\n",
       "      <th>label</th>\n",
       "    </tr>\n",
       "  </thead>\n",
       "  <tbody>\n",
       "    <tr>\n",
       "      <th>0</th>\n",
       "      <td>25.0</td>\n",
       "      <td>60.0</td>\n",
       "      <td>100.0</td>\n",
       "      <td>Healthy</td>\n",
       "    </tr>\n",
       "    <tr>\n",
       "      <th>1</th>\n",
       "      <td>25.0</td>\n",
       "      <td>60.0</td>\n",
       "      <td>0.0</td>\n",
       "      <td>Unhealthy</td>\n",
       "    </tr>\n",
       "    <tr>\n",
       "      <th>2</th>\n",
       "      <td>25.0</td>\n",
       "      <td>60.0</td>\n",
       "      <td>100.0</td>\n",
       "      <td>Healthy</td>\n",
       "    </tr>\n",
       "    <tr>\n",
       "      <th>3</th>\n",
       "      <td>25.0</td>\n",
       "      <td>60.0</td>\n",
       "      <td>0.0</td>\n",
       "      <td>Unhealthy</td>\n",
       "    </tr>\n",
       "    <tr>\n",
       "      <th>4</th>\n",
       "      <td>25.0</td>\n",
       "      <td>60.0</td>\n",
       "      <td>0.0</td>\n",
       "      <td>Unhealthy</td>\n",
       "    </tr>\n",
       "  </tbody>\n",
       "</table>\n",
       "</div>"
      ],
      "text/plain": [
       "   temperature  humidity  moisture      label\n",
       "0         25.0      60.0     100.0    Healthy\n",
       "1         25.0      60.0       0.0  Unhealthy\n",
       "2         25.0      60.0     100.0    Healthy\n",
       "3         25.0      60.0       0.0  Unhealthy\n",
       "4         25.0      60.0       0.0  Unhealthy"
      ]
     },
     "execution_count": 2,
     "metadata": {},
     "output_type": "execute_result"
    }
   ],
   "source": [
    "df = pd.read_csv(data_path)\n",
    "print(df.shape)\n",
    "df.head()"
   ]
  },
  {
   "cell_type": "code",
   "execution_count": 3,
   "id": "bcaf0177",
   "metadata": {},
   "outputs": [
    {
     "data": {
      "application/vnd.microsoft.datawrangler.viewer.v0+json": {
       "columns": [
        {
         "name": "index",
         "rawType": "object",
         "type": "string"
        },
        {
         "name": "temperature",
         "rawType": "float64",
         "type": "float"
        },
        {
         "name": "humidity",
         "rawType": "float64",
         "type": "float"
        },
        {
         "name": "moisture",
         "rawType": "float64",
         "type": "float"
        },
        {
         "name": "label",
         "rawType": "object",
         "type": "unknown"
        }
       ],
       "ref": "e871a244-88b2-4c52-82b1-cf9d8bc25f84",
       "rows": [
        [
         "count",
         "66.0",
         "66.0",
         "66.0",
         "66"
        ],
        [
         "unique",
         null,
         null,
         null,
         "2"
        ],
        [
         "top",
         null,
         null,
         null,
         "Unhealthy"
        ],
        [
         "freq",
         null,
         null,
         null,
         "50"
        ],
        [
         "mean",
         "25.0",
         "60.0",
         "28.939393939393938",
         null
        ],
        [
         "std",
         "0.0",
         "0.0",
         "40.82830043670832",
         null
        ],
        [
         "min",
         "25.0",
         "60.0",
         "0.0",
         null
        ],
        [
         "25%",
         "25.0",
         "60.0",
         "0.0",
         null
        ],
        [
         "50%",
         "25.0",
         "60.0",
         "1.0",
         null
        ],
        [
         "75%",
         "25.0",
         "60.0",
         "52.0",
         null
        ],
        [
         "max",
         "25.0",
         "60.0",
         "100.0",
         null
        ]
       ],
       "shape": {
        "columns": 4,
        "rows": 11
       }
      },
      "text/html": [
       "<div>\n",
       "<style scoped>\n",
       "    .dataframe tbody tr th:only-of-type {\n",
       "        vertical-align: middle;\n",
       "    }\n",
       "\n",
       "    .dataframe tbody tr th {\n",
       "        vertical-align: top;\n",
       "    }\n",
       "\n",
       "    .dataframe thead th {\n",
       "        text-align: right;\n",
       "    }\n",
       "</style>\n",
       "<table border=\"1\" class=\"dataframe\">\n",
       "  <thead>\n",
       "    <tr style=\"text-align: right;\">\n",
       "      <th></th>\n",
       "      <th>temperature</th>\n",
       "      <th>humidity</th>\n",
       "      <th>moisture</th>\n",
       "      <th>label</th>\n",
       "    </tr>\n",
       "  </thead>\n",
       "  <tbody>\n",
       "    <tr>\n",
       "      <th>count</th>\n",
       "      <td>66.0</td>\n",
       "      <td>66.0</td>\n",
       "      <td>66.000000</td>\n",
       "      <td>66</td>\n",
       "    </tr>\n",
       "    <tr>\n",
       "      <th>unique</th>\n",
       "      <td>NaN</td>\n",
       "      <td>NaN</td>\n",
       "      <td>NaN</td>\n",
       "      <td>2</td>\n",
       "    </tr>\n",
       "    <tr>\n",
       "      <th>top</th>\n",
       "      <td>NaN</td>\n",
       "      <td>NaN</td>\n",
       "      <td>NaN</td>\n",
       "      <td>Unhealthy</td>\n",
       "    </tr>\n",
       "    <tr>\n",
       "      <th>freq</th>\n",
       "      <td>NaN</td>\n",
       "      <td>NaN</td>\n",
       "      <td>NaN</td>\n",
       "      <td>50</td>\n",
       "    </tr>\n",
       "    <tr>\n",
       "      <th>mean</th>\n",
       "      <td>25.0</td>\n",
       "      <td>60.0</td>\n",
       "      <td>28.939394</td>\n",
       "      <td>NaN</td>\n",
       "    </tr>\n",
       "    <tr>\n",
       "      <th>std</th>\n",
       "      <td>0.0</td>\n",
       "      <td>0.0</td>\n",
       "      <td>40.828300</td>\n",
       "      <td>NaN</td>\n",
       "    </tr>\n",
       "    <tr>\n",
       "      <th>min</th>\n",
       "      <td>25.0</td>\n",
       "      <td>60.0</td>\n",
       "      <td>0.000000</td>\n",
       "      <td>NaN</td>\n",
       "    </tr>\n",
       "    <tr>\n",
       "      <th>25%</th>\n",
       "      <td>25.0</td>\n",
       "      <td>60.0</td>\n",
       "      <td>0.000000</td>\n",
       "      <td>NaN</td>\n",
       "    </tr>\n",
       "    <tr>\n",
       "      <th>50%</th>\n",
       "      <td>25.0</td>\n",
       "      <td>60.0</td>\n",
       "      <td>1.000000</td>\n",
       "      <td>NaN</td>\n",
       "    </tr>\n",
       "    <tr>\n",
       "      <th>75%</th>\n",
       "      <td>25.0</td>\n",
       "      <td>60.0</td>\n",
       "      <td>52.000000</td>\n",
       "      <td>NaN</td>\n",
       "    </tr>\n",
       "    <tr>\n",
       "      <th>max</th>\n",
       "      <td>25.0</td>\n",
       "      <td>60.0</td>\n",
       "      <td>100.000000</td>\n",
       "      <td>NaN</td>\n",
       "    </tr>\n",
       "  </tbody>\n",
       "</table>\n",
       "</div>"
      ],
      "text/plain": [
       "        temperature  humidity    moisture      label\n",
       "count          66.0      66.0   66.000000         66\n",
       "unique          NaN       NaN         NaN          2\n",
       "top             NaN       NaN         NaN  Unhealthy\n",
       "freq            NaN       NaN         NaN         50\n",
       "mean           25.0      60.0   28.939394        NaN\n",
       "std             0.0       0.0   40.828300        NaN\n",
       "min            25.0      60.0    0.000000        NaN\n",
       "25%            25.0      60.0    0.000000        NaN\n",
       "50%            25.0      60.0    1.000000        NaN\n",
       "75%            25.0      60.0   52.000000        NaN\n",
       "max            25.0      60.0  100.000000        NaN"
      ]
     },
     "metadata": {},
     "output_type": "display_data"
    },
    {
     "name": "stdout",
     "output_type": "stream",
     "text": [
      "Class balance:\n",
      "label\n",
      "Unhealthy    50\n",
      "Healthy      16\n",
      "Name: count, dtype: int64\n"
     ]
    }
   ],
   "source": [
    "display(df.describe(include='all'))\n",
    "print('Class balance:')\n",
    "print(df['label'].value_counts())"
   ]
  },
  {
   "cell_type": "code",
   "execution_count": 4,
   "id": "08526a29",
   "metadata": {},
   "outputs": [
    {
     "data": {
      "image/png": "[encoded data removed]",
      "text/plain": [
       "<Figure size 871.125x750 with 12 Axes>"
      ]
     },
     "metadata": {},
     "output_type": "display_data"
    }
   ],
   "source": [
    "sns.pairplot(df[['temperature','humidity','moisture','label']], hue='label')\n",
    "plt.show()"
   ]
  },
  {
   "cell_type": "markdown",
   "id": "e9d0ea73",
   "metadata": {},
   "source": [
    "## 3. Train/Test Split & Baseline Model\n",
    "Train a simple pipeline and evaluate performance."
   ]
  },
  {
   "cell_type": "markdown",
   "id": "a2ed740f",
   "metadata": {},
   "source": [
    "## 2.1 Optional: Synthesize extra points (class balancing)\n",
    "If the dataset is small or imbalanced, this augments with light noise around existing samples."
   ]
  },
  {
   "cell_type": "code",
   "execution_count": 6,
   "id": "8e83035c",
   "metadata": {},
   "outputs": [
    {
     "name": "stdout",
     "output_type": "stream",
     "text": [
      "              precision    recall  f1-score   support\n",
      "\n",
      "   Unhealthy       1.00      1.00      1.00        30\n",
      "     Healthy       1.00      1.00      1.00        10\n",
      "\n",
      "    accuracy                           1.00        40\n",
      "   macro avg       1.00      1.00      1.00        40\n",
      "weighted avg       1.00      1.00      1.00        40\n",
      "\n"
     ]
    },
    {
     "data": {
      "image/png": "[encoded data removed]",
      "text/plain": [
       "<Figure size 640x480 with 2 Axes>"
      ]
     },
     "metadata": {},
     "output_type": "display_data"
    }
   ],
   "source": [
    "X = df[['temperature', 'humidity', 'moisture']].values.astype(float)\n",
    "y = (df['label'] == 'Healthy').astype(int).values  # Healthy=1, Unhealthy=0\n",
    "X_train, X_test, y_train, y_test = train_test_split(X, y, test_size=0.2, random_state=42, stratify=y)\n",
    "# Baseline: Logistic Regression (fast and lightweight)\n",
    "pipeline = Pipeline([\n",
    "    ('scaler', StandardScaler()),\n",
    "    ('clf', LogisticRegression(max_iter=1000))\n",
    "])\n",
    "pipeline.fit(X_train, y_train)\n",
    "pred = pipeline.predict(X_test)\n",
    "print(classification_report(y_test, pred, target_names=['Unhealthy', 'Healthy']))\n",
    "cm = confusion_matrix(y_test, pred)\n",
    "sns.heatmap(cm, annot=True, fmt='d', cmap='Blues', xticklabels=['Unhealthy','Healthy'], yticklabels=['Unhealthy','Healthy'])\n",
    "plt.title('Confusion Matrix')\n",
    "plt.xlabel('Predicted')\n",
    "plt.ylabel('True')\n",
    "plt.show()"
   ]
  },
  {
   "cell_type": "markdown",
   "id": "4ad3aea6",
   "metadata": {},
   "source": [
    "## 4. Cross-Validation (optional)\n",
    "Quick 5-fold cross-validation score to sanity check."
   ]
  },
  {
   "cell_type": "code",
   "execution_count": 7,
   "id": "ea0285b5",
   "metadata": {},
   "outputs": [
    {
     "name": "stdout",
     "output_type": "stream",
     "text": [
      "LogReg CV Accuracy: 0.995 ± 0.010\n"
     ]
    }
   ],
   "source": [
    "scores = cross_val_score(pipeline, X, y, cv=5)\n",
    "print('LogReg CV Accuracy: %.3f ± %.3f' % (scores.mean(), scores.std()))"
   ]
  },
  {
   "cell_type": "markdown",
   "id": "25c01c99",
   "metadata": {},
   "source": [
    "## 5. Save Model\n",
    "Export the trained pipeline to `classifier.pkl` for `collector.py`."
   ]
  },
  {
   "cell_type": "code",
   "execution_count": 8,
   "id": "36490b37",
   "metadata": {},
   "outputs": [
    {
     "data": {
      "text/plain": [
       "True"
      ]
     },
     "execution_count": 8,
     "metadata": {},
     "output_type": "execute_result"
    }
   ],
   "source": [
    "joblib.dump(pipeline, 'classifier.pkl')\n",
    "Path('classifier.pkl').exists()"
   ]
  },
  {
   "cell_type": "code",
   "execution_count": 5,
   "id": "a0722590",
   "metadata": {},
   "outputs": [
    {
     "name": "stdout",
     "output_type": "stream",
     "text": [
      "After augmentation: (198, 4)\n"
     ]
    }
   ],
   "source": [
    "# Augment optionally — set AUGMENT=True to enable\n",
    "AUGMENT = True\n",
    "MULTIPLIER = 2  # how many synthetic samples per real sample\n",
    "if AUGMENT:\n",
    "    rng = np.random.default_rng(42)\n",
    "    feats = df[['temperature','humidity','moisture']].values.astype(float)\n",
    "    labels = (df['label'] == 'Healthy').astype(int).values\n",
    "    std = feats.std(axis=0, ddof=1)\n",
    "    noise_scale = np.maximum(std * 0.05, 0.2)  # small noise; ensure non-zero\n",
    "    synth_X = []\n",
    "    synth_y = []\n",
    "    for i in range(len(feats)):\n",
    "        for _ in range(MULTIPLIER):\n",
    "            noise = rng.normal(0.0, noise_scale)\n",
    "            x_new = feats[i] + noise\n",
    "            x_new[2] = np.clip(x_new[2], 0, 100)  # moisture in [0,100]\n",
    "            synth_X.append(x_new)\n",
    "            synth_y.append(labels[i])\n",
    "    synth_df = pd.DataFrame(synth_X, columns=['temperature','humidity','moisture'])\n",
    "    synth_df['label'] = np.where(np.array(synth_y)==1, 'Healthy', 'Unhealthy')\n",
    "    df = pd.concat([df, synth_df], ignore_index=True)\n",
    "    print('After augmentation:', df.shape)\n"
   ]
  }
 ],
 "metadata": {
  "kernelspec": {
   "display_name": ".venv (3.12.3)",
   "language": "python",
   "name": "python3"
  },
  "language_info": {
   "codemirror_mode": {
    "name": "ipython",
    "version": 3
   },
   "file_extension": ".py",
   "mimetype": "text/x-python",
   "name": "python",
   "nbconvert_exporter": "python",
   "pygments_lexer": "ipython3",
   "version": "3.12.3"
  }
 },
 "nbformat": 4,
 "nbformat_minor": 5
}
